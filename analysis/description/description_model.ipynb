{
  "cells": [
    {
      "cell_type": "code",
      "execution_count": 1,
      "metadata": {
        "id": "uv5JhJZ52no1"
      },
      "outputs": [],
      "source": [
        "from sklearn.feature_extraction.text import TfidfVectorizer\n",
        "from sklearn.linear_model import Ridge\n",
        "import pandas as pd\n",
        "import numpy as np\n",
        "from wordcloud import WordCloud\n",
        "import matplotlib.pyplot as plt\n",
        "import torch\n",
        "from torch.utils.data import Dataset, DataLoader\n",
        "from transformers import BertModel\n",
        "from transformers import BertTokenizer\n",
        "import torch.nn as nn\n",
        "from transformers import AutoTokenizer\n",
        "from transformers import AutoModel\n",
        "#from kobert_tokenizer import KoBERTTokenizer"
      ]
    },
    {
      "cell_type": "code",
      "execution_count": 2,
      "metadata": {
        "id": "ysxlAxRw3k8x"
      },
      "outputs": [],
      "source": [
        "data = pd.read_csv(\"/content/data.csv\")"
      ]
    },
    {
      "cell_type": "code",
      "execution_count": 3,
      "metadata": {
        "id": "pB3PdEYiwfBt"
      },
      "outputs": [],
      "source": [
        "data[\"description\"] = data[\"description\"].fillna(\"\")"
      ]
    },
    {
      "cell_type": "code",
      "execution_count": 4,
      "metadata": {
        "colab": {
          "base_uri": "https://localhost:8080/",
          "height": 458
        },
        "id": "6Mg0BFPZ0RzR",
        "outputId": "6ae8dacd-331f-4f5f-a274-eeeb8a1eec4e"
      },
      "outputs": [
        {
          "data": {
            "text/html": [
              "<div>\n",
              "<style scoped>\n",
              "    .dataframe tbody tr th:only-of-type {\n",
              "        vertical-align: middle;\n",
              "    }\n",
              "\n",
              "    .dataframe tbody tr th {\n",
              "        vertical-align: top;\n",
              "    }\n",
              "\n",
              "    .dataframe thead th {\n",
              "        text-align: right;\n",
              "    }\n",
              "</style>\n",
              "<table border=\"1\" class=\"dataframe\">\n",
              "  <thead>\n",
              "    <tr style=\"text-align: right;\">\n",
              "      <th></th>\n",
              "      <th>description</th>\n",
              "    </tr>\n",
              "  </thead>\n",
              "  <tbody>\n",
              "    <tr>\n",
              "      <th>0</th>\n",
              "      <td>\ubc88 \ucc29\uc6a9\ud588\uace0 \ud558\uc790\ub098 \uc5bc\ub8e9 \uc5c6\uc2b5\ub2c8\ub2e4</td>\n",
              "    </tr>\n",
              "    <tr>\n",
              "      <th>1</th>\n",
              "      <td>\uc2dc\ucc29\ud6c4 \ubcf4\uad00\uc911\uc785\ub2c8\ub2f9 pk \ub871\uc2ac\ub9ac\ube0c \uc2a4\ud2b8\ub77c\uc774\ud504 \ube14\ub8e8</td>\n",
              "    </tr>\n",
              "    <tr>\n",
              "      <th>2</th>\n",
              "      <td>M\uc0ac\uc774\uc988 \uc2e4\ucc29 \ud68c \ud558\uc790 \uc624\uc5fc \uc5c6\uc2b5\ub2c8\ub2e4 \uc624\ud6c4 \uc2dc \uc774\uc804 \uacb0\uc81c \ud0dd\ubc30 \ub2f9\uc77c\uc811\uc218 \uc5d0\ub20c \uad50\uc2e0 ...</td>\n",
              "    </tr>\n",
              "    <tr>\n",
              "      <th>3</th>\n",
              "      <td>\uc2a4\ud0c0\uc77c\uc774 \ubc14\ub00c\uc5b4 \ud310\ub9e4\ud569\ub2c8\ub2e4</td>\n",
              "    </tr>\n",
              "    <tr>\n",
              "      <th>4</th>\n",
              "      <td>\ub178\uc2a4\ud154\uc9c0\uc544 \uac00\ub514\uac74 \uad6c\ubc84\uc804 \uc81c\ud488\uc785\ub2c8\ub2e4 \uc2e4\uc0ac\ub294 \ubc88\ud1a1\uc8fc\uc138\uc694</td>\n",
              "    </tr>\n",
              "    <tr>\n",
              "      <th>...</th>\n",
              "      <td>...</td>\n",
              "    </tr>\n",
              "    <tr>\n",
              "      <th>50475</th>\n",
              "      <td>\uad6d\ub0b4 \ubc31\ud654\uc810\uad6c\ub9e4 \uc9c1\uc7a5\uc778\uc778\ub370 \uce90\uc96c\uc5bc \uc88b\uc544\ud574 \uc0ac\ub193\uace0 \ud65c\uc6a9\ubabb\ud574\uc11c \uacb9\uce58\ub294 \uc2a4\ud0c0\uc77c\ub4e4 \ube44\uc6c0\uc911 ...</td>\n",
              "    </tr>\n",
              "    <tr>\n",
              "      <th>50476</th>\n",
              "      <td>\ud3f4\ub85c \ud6c4\ub4dc\uc9d1\uc5c5 \ud310\ub9e4\ud569\ub2c8\ub2e4 \uad6c\ub9e4\ud560\ub54c \ub9cc\uc6d0\uc815\ub3c4\ub85c \uad6c\ub9e4\ud588\uc2b5\ub2c8\ub2e4</td>\n",
              "    </tr>\n",
              "    <tr>\n",
              "      <th>50477</th>\n",
              "      <td>\uc0ac\uc6a9\uac10 \ub9ce\uc9c0 \uc54a\uc544\uc694 \uc2a4\ud310\uae30\ub3c4 \uc57d\uac04 \uc788\uc5b4\uc11c \ud3b8\ud574\uc694 \uc815\ud488\uc785\ub2c8\ub2e4 \uc2e4\uce21 \ud5c8\ub9ac\ub2e8\uba74 \ucd1d\uc7a5 cm</td>\n",
              "    </tr>\n",
              "    <tr>\n",
              "      <th>50478</th>\n",
              "      <td>\uad50\uc2e0 \uc5d0\ub20c \ud560\uc778 \ud765\uc815 \ub4f1 \uba54\uc138\uc9c0\uc5d4 \ub2f5\ubcc0 \uc548\ud558\uace0 \uc788\uc73c\uba70 \ub610\ud55c \uacb0\uc81c \uc9c4\ud589 \uc911 \uc5f0\ub77d\ub450\uc808\uc2dc...</td>\n",
              "    </tr>\n",
              "    <tr>\n",
              "      <th>50479</th>\n",
              "      <td>\ud3f4\ub85c \uc5ec\uc131\uc6a9 \ubc18\ud314 M \ucf54\ud2bc \uc0c1\ud0dc \uc88b\uc544\uc694 \uc5ec\ub984\uc637 \uc815\ub9ac\ud558\uba74\uc11c \ub0b4\ub193\uc544\uc694 \ucfe8\uac70\uc2dc \uc5d0\ub20c \uac00\ub2a5</td>\n",
              "    </tr>\n",
              "  </tbody>\n",
              "</table>\n",
              "<p>50480 rows \u00d7 1 columns</p>\n",
              "</div><br><label><b>dtype:</b> object</label>"
            ],
            "text/plain": [
              "0                                       \ubc88 \ucc29\uc6a9\ud588\uace0 \ud558\uc790\ub098 \uc5bc\ub8e9 \uc5c6\uc2b5\ub2c8\ub2e4\n",
              "1                              \uc2dc\ucc29\ud6c4 \ubcf4\uad00\uc911\uc785\ub2c8\ub2f9 pk \ub871\uc2ac\ub9ac\ube0c \uc2a4\ud2b8\ub77c\uc774\ud504 \ube14\ub8e8\n",
              "2        M\uc0ac\uc774\uc988 \uc2e4\ucc29 \ud68c \ud558\uc790 \uc624\uc5fc \uc5c6\uc2b5\ub2c8\ub2e4 \uc624\ud6c4 \uc2dc \uc774\uc804 \uacb0\uc81c \ud0dd\ubc30 \ub2f9\uc77c\uc811\uc218 \uc5d0\ub20c \uad50\uc2e0 ...\n",
              "3                                           \uc2a4\ud0c0\uc77c\uc774 \ubc14\ub00c\uc5b4 \ud310\ub9e4\ud569\ub2c8\ub2e4\n",
              "4                            \ub178\uc2a4\ud154\uc9c0\uc544 \uac00\ub514\uac74 \uad6c\ubc84\uc804 \uc81c\ud488\uc785\ub2c8\ub2e4 \uc2e4\uc0ac\ub294 \ubc88\ud1a1\uc8fc\uc138\uc694\n",
              "                               ...                        \n",
              "50475    \uad6d\ub0b4 \ubc31\ud654\uc810\uad6c\ub9e4 \uc9c1\uc7a5\uc778\uc778\ub370 \uce90\uc96c\uc5bc \uc88b\uc544\ud574 \uc0ac\ub193\uace0 \ud65c\uc6a9\ubabb\ud574\uc11c \uacb9\uce58\ub294 \uc2a4\ud0c0\uc77c\ub4e4 \ube44\uc6c0\uc911 ...\n",
              "50476                      \ud3f4\ub85c \ud6c4\ub4dc\uc9d1\uc5c5 \ud310\ub9e4\ud569\ub2c8\ub2e4 \uad6c\ub9e4\ud560\ub54c \ub9cc\uc6d0\uc815\ub3c4\ub85c \uad6c\ub9e4\ud588\uc2b5\ub2c8\ub2e4\n",
              "50477       \uc0ac\uc6a9\uac10 \ub9ce\uc9c0 \uc54a\uc544\uc694 \uc2a4\ud310\uae30\ub3c4 \uc57d\uac04 \uc788\uc5b4\uc11c \ud3b8\ud574\uc694 \uc815\ud488\uc785\ub2c8\ub2e4 \uc2e4\uce21 \ud5c8\ub9ac\ub2e8\uba74 \ucd1d\uc7a5 cm\n",
              "50478    \uad50\uc2e0 \uc5d0\ub20c \ud560\uc778 \ud765\uc815 \ub4f1 \uba54\uc138\uc9c0\uc5d4 \ub2f5\ubcc0 \uc548\ud558\uace0 \uc788\uc73c\uba70 \ub610\ud55c \uacb0\uc81c \uc9c4\ud589 \uc911 \uc5f0\ub77d\ub450\uc808\uc2dc...\n",
              "50479       \ud3f4\ub85c \uc5ec\uc131\uc6a9 \ubc18\ud314 M \ucf54\ud2bc \uc0c1\ud0dc \uc88b\uc544\uc694 \uc5ec\ub984\uc637 \uc815\ub9ac\ud558\uba74\uc11c \ub0b4\ub193\uc544\uc694 \ucfe8\uac70\uc2dc \uc5d0\ub20c \uac00\ub2a5\n",
              "Name: description, Length: 50480, dtype: object"
            ]
          },
          "execution_count": 4,
          "metadata": {},
          "output_type": "execute_result"
        }
      ],
      "source": [
        "# data \uc804\ucc98\ub9ac\n",
        "import re\n",
        "\n",
        "def clean_text(text):\n",
        "    if not isinstance(text, str) or text.strip() == \"\":\n",
        "        return \"[PAD]\"\n",
        "\n",
        "    # 1. \uc774\ubaa8\uc9c0 \ubc0f \ud2b9\uc218\uae30\ud638 \uc81c\uac70 (\ud55c\ubc29\uc5d0 \ucc98\ub9ac)\n",
        "    text = re.sub(r'[^\\uAC00-\\uD7A3a-zA-Z0-9\\s]', ' ', text)\n",
        "\n",
        "    # 2. \ubc18\ubcf5 \uc870\uc0ac \uc904\uc774\uae30 (\u314b\u314b\u314b \u2192 \u314b)\n",
        "    text = re.sub(r'([\u314b\u314e\u315c\u3160])\\1{1,}', r'\\1', text)\n",
        "\n",
        "    # 3. \uc22b\uc790 \uc81c\uac70 (\uc120\ud0dd\uc801)\n",
        "    text = re.sub(r'\\d+', '', text)\n",
        "\n",
        "    # 4. \ubd88\uc6a9\uc5b4 \uc81c\uac70\n",
        "    stopwords = ['\uac83', '\uc218', '\uc788', '\ud558', '\ub354', '\ub4e4', '\ub294', '\uc740', '\uc774', '\uac00']\n",
        "    text = ' '.join([word for word in text.split() if word not in stopwords])\n",
        "\n",
        "    # 5. \uacf5\ubc31 \uc815\ub9ac\n",
        "    text = re.sub(r'\\s+', ' ', text).strip()\n",
        "\n",
        "    return text\n",
        "\n",
        "\n",
        "data.description = data.description.apply(clean_text)\n",
        "data.description\n"
      ]
    },
    {
      "cell_type": "code",
      "execution_count": 5,
      "metadata": {
        "id": "qynXmJtS6Bls"
      },
      "outputs": [],
      "source": [
        "import torch.nn as nn\n",
        "from transformers import BertModel\n",
        "\n",
        "\n",
        "class KoBERTRegressor(nn.Module):\n",
        "    def __init__(self, bert_model=None):\n",
        "        super(KoBERTRegressor, self).__init__()\n",
        "        if bert_model is None:\n",
        "            self.bert = BertModel.from_pretrained(\"monologg/kobert\")\n",
        "        else:\n",
        "            self.bert = bert_model\n",
        "\n",
        "        self.regressor = nn.Linear(768, 1)  # \uace0\uc815\uac12\uc73c\ub85c \uba85\uc2dc\n",
        "        # print(\"Regressor initialized with in_features=768\")\n",
        "\n",
        "    def forward(self, input_ids=None, attention_mask=None, inputs_embeds=None):\n",
        "        outputs = self.bert(\n",
        "            input_ids=input_ids,\n",
        "            attention_mask=attention_mask,\n",
        "            inputs_embeds=inputs_embeds\n",
        "        )\n",
        "        cls_output = outputs.last_hidden_state[:, 0, :]  # [B, 768]\n",
        "        return self.regressor(cls_output).squeeze(-1)\n",
        "\n"
      ]
    },
    {
      "cell_type": "code",
      "execution_count": 6,
      "metadata": {
        "colab": {
          "base_uri": "https://localhost:8080/",
          "height": 308,
          "referenced_widgets": [
            "0b25fabd4e7b40849f107abd576ee9bd",
            "a55e4480ff354034bb1fc73c54ea665c",
            "c40a73b5da304be6aebf0e0c290f1aef",
            "a7afcb0c1290402a9db396a5b9302ee2",
            "99d843710065428891bb8b2183fe72af",
            "04f6aa8c61b847be91135c7bd316b772",
            "6d253913db0f4092b3bb92f8a8a9856c",
            "8295491c7e4b4d3797f644f1e3dcb1cc",
            "0420b0f02fb64ad480b761d8c1790b3d",
            "7f626613b67a473aa047118256f3c66c",
            "66f829d5332b4e4c840df87459841163",
            "185f401223f34537a0169bb4b11c40d2",
            "7fb9645226ac4c05bf9862b76de9f33f",
            "7fb278aec1344ec3b73690b54517ddd0",
            "9ff347686b604288960e07ea32ea7353",
            "7c466d9517524560936abee1df34c6ea",
            "437263726ce1439c9777ccbdab70f7ae",
            "1d675320976045e39b5e27730bc56601",
            "66dc8e44bbdc4afeb47522950a2e727d",
            "126b489b65e440ba9ddc3f8e533e6705",
            "1cc80adcb6034c62a6339c33267d0faf",
            "0aeebf94a65649b9918e0d98e969b21a",
            "880d7c7c22844e1783439093f2a7ab4a",
            "f43a2442397f4f009013a29988fda71d",
            "9adbefae96024c198ec243d8583b382f",
            "b2c17c0df89d42f3a4494c7f3d2fa7d9",
            "ff11b4f646b0479894ff32ab3148ceb8",
            "041fa87e3f24451998b0b72615979e5e",
            "a8b235e5f3444e41b2f67f8fc7901719",
            "7bfced1f401341fb94bb19e7e4944a41",
            "afae593f241f4f028027b5ecd78e1b78",
            "2c7b5ec0e0e442818b0e7f995280e667",
            "56d215728a1a4800b35a77d79569438d",
            "800971808db94ae2a7a2a444b86ebb37",
            "75e7a52acaab42709c8e3d9f84dd0888",
            "d420a093a37a48c087315c7a8360932d",
            "816bd79067e74e6e99f3f7d2cbb88733",
            "54e640da97f649c49e12eb69a32b6268",
            "db1da2136255480b84e8a772e69ed7bd",
            "2bf716c680f544a4b743f9c8a35572f4",
            "964bcf55270749c0a7449246ce97131a",
            "548f5b0d3ec04c709253c1b6936cb47d",
            "ac1dcd4bf4fc4011aeab261fc04a273f",
            "95ba6908cdf4466ea3911043b5fb2a07"
          ]
        },
        "id": "RSv-JwoL8L7J",
        "outputId": "417fcb35-3687-4e88-a0f8-1b0849b0f5ed"
      },
      "outputs": [
        {
          "name": "stderr",
          "output_type": "stream",
          "text": [
            "/usr/local/lib/python3.11/dist-packages/huggingface_hub/utils/_auth.py:94: UserWarning: \n",
            "The secret `HF_TOKEN` does not exist in your Colab secrets.\n",
            "To authenticate with the Hugging Face Hub, create a token in your settings tab (https://huggingface.co/settings/tokens), set it as secret in your Google Colab and restart your session.\n",
            "You will be able to reuse this secret in all of your notebooks.\n",
            "Please note that authentication is recommended but still optional to access public models or datasets.\n",
            "  warnings.warn(\n"
          ]
        },
        {
          "data": {
            "application/vnd.jupyter.widget-view+json": {
              "model_id": "0b25fabd4e7b40849f107abd576ee9bd",
              "version_major": 2,
              "version_minor": 0
            },
            "text/plain": [
              "tokenizer_config.json:   0%|          | 0.00/263 [00:00<?, ?B/s]"
            ]
          },
          "metadata": {},
          "output_type": "display_data"
        },
        {
          "data": {
            "application/vnd.jupyter.widget-view+json": {
              "model_id": "185f401223f34537a0169bb4b11c40d2",
              "version_major": 2,
              "version_minor": 0
            },
            "text/plain": [
              "vocab.txt: 0.00B [00:00, ?B/s]"
            ]
          },
          "metadata": {},
          "output_type": "display_data"
        },
        {
          "name": "stderr",
          "output_type": "stream",
          "text": [
            "The tokenizer class you load from this checkpoint is not the same type as the class this function is called from. It may result in unexpected tokenization. \n",
            "The tokenizer class you load from this checkpoint is 'KoBertTokenizer'. \n",
            "The class this function is called from is 'BertTokenizer'.\n"
          ]
        },
        {
          "data": {
            "application/vnd.jupyter.widget-view+json": {
              "model_id": "880d7c7c22844e1783439093f2a7ab4a",
              "version_major": 2,
              "version_minor": 0
            },
            "text/plain": [
              "config.json:   0%|          | 0.00/426 [00:00<?, ?B/s]"
            ]
          },
          "metadata": {},
          "output_type": "display_data"
        },
        {
          "data": {
            "application/vnd.jupyter.widget-view+json": {
              "model_id": "800971808db94ae2a7a2a444b86ebb37",
              "version_major": 2,
              "version_minor": 0
            },
            "text/plain": [
              "model.safetensors:   0%|          | 0.00/369M [00:00<?, ?B/s]"
            ]
          },
          "metadata": {},
          "output_type": "display_data"
        }
      ],
      "source": [
        "# Load KoBERT tokenizer\n",
        "#tokenizer = KoBertTokenizer.from_pretrained(\"skt/kobert-base-v1\", do_lower_case=False)\n",
        "\n",
        "\n",
        "tokenizer = BertTokenizer.from_pretrained(\"monologg/kobert\")\n",
        "bert_model = BertModel.from_pretrained(\"monologg/kobert\")\n",
        "\n",
        "\n",
        "\n",
        "class KoBERTDataset(Dataset):\n",
        "    def __init__(self, descriptions, scores, tokenizer, max_len=64):\n",
        "        self.descriptions = descriptions\n",
        "        self.scores = scores\n",
        "        self.tokenizer = tokenizer\n",
        "        self.max_len = max_len\n",
        "\n",
        "    def __len__(self):\n",
        "        return len(self.descriptions)\n",
        "\n",
        "    def __getitem__(self, idx):\n",
        "        desc = self.descriptions[idx]\n",
        "        if not desc.strip():  # \ube48 \ubb38\uc790\uc5f4\uc774\uba74\n",
        "            desc = \"[PAD]\"  # \uadf8\ub0e5 \uc544\ubb34 \ud1a0\ud070\uc774\ub098 \ub123\uc5b4 (\ube48 \ub9ac\uc2a4\ud2b8 \ubc29\uc9c0\uc6a9)\n",
        "\n",
        "        encoded = self.tokenizer(\n",
        "            desc,\n",
        "            padding=\"max_length\",\n",
        "            truncation=True,\n",
        "            max_length=self.max_len,\n",
        "            return_tensors=\"pt\"\n",
        "        )\n",
        "        input_ids = encoded[\"input_ids\"].squeeze(0)\n",
        "        attention_mask = encoded[\"attention_mask\"].squeeze(0)\n",
        "        return input_ids, attention_mask, torch.tensor(self.scores[idx], dtype=torch.float)\n",
        "\n"
      ]
    },
    {
      "cell_type": "code",
      "execution_count": 7,
      "metadata": {
        "colab": {
          "base_uri": "https://localhost:8080/",
          "height": 263,
          "referenced_widgets": [
            "a297a0fbeb484e10be273f9bea923ed8",
            "075b1dd520894ee28354e9b37ed20801",
            "e097367037704aa1a246795bd3effa7a",
            "34af0b70f35643e1be8c54beb13bdb85",
            "e128ee8cd56b4da38ce084f4c7876092",
            "c540c12170174876a09e3f9c16862eeb",
            "be340980c88d4204b0f1d47638308304",
            "0ebb2aac24284778be67cde11ee12837",
            "10a91d4b1f584eb18f89d8d0d0b9f2d1",
            "a028f852b60f408c95b2da9ac3aaeb92",
            "f4504f13677549bc8dfc5ef82de48058",
            "aaf3890700ac4370a5ecf2d91031aa62",
            "acc67998423c4d559a08263f6660acc2",
            "8d133303aaed47d1a29c940e64e8c1f6",
            "d9e623ba338341e48c6c0999d1e2b9b2",
            "ceeecef2ef0a48b2a5618e2975bdd671",
            "fefed4eef16a42f3af9bdf3846d9c27a",
            "e8e94342bdf745e288b4db43d4e30ab3",
            "18a563a79acd43c697a82dca5ba6c3a3",
            "fc360b2270a9419b968e14a2945694df",
            "56df5522e3c245419dc641122f29ad8c",
            "b692c8e84448405aa6b932208f10c2ca",
            "a9e71131255541cb9f23fc374f7d1c0b",
            "250651a6dd274b4b9c392b81e6f1d391",
            "29d40012c3db4cef8b0787da919d3b9b",
            "5cfe67fb43364e03a36322dcb24e5a9a",
            "388c7a142c074f5ea7d892827d52ea2c",
            "36d56924374e44de9a69c4f92ded135a",
            "be502632f5cb40f7ba200f17d70bf580",
            "925b108bf73d4f4bb42fce287c24da16",
            "b29edadcb86c4c83bc375c6e5681de2b",
            "38a9c275da6a400491d330f5fa6015d9",
            "e9eb352803824aff9a9e158750d51f91",
            "9d9cc10e901243128d6098112d03c62a",
            "bfac4fca138c411bb7cfdb40a72491c8",
            "03802e8104814958a7de206e31da4c6e",
            "b5d1957e24e44f88b90fe219b88d6c14",
            "813d715b85c24907a6b8b825048d5c7c",
            "e7c6abb136fa4837b8cd2ed32c2c1b94",
            "5bd61559894c403fb4235869d23415c1",
            "634b336f08e049f6a3d19d5d5dd9afa0",
            "235ef3a2710542d68f3842da0141378a",
            "1e86527ac74e47288816625c4afd3bfc",
            "4b090d5608534e46bd5c92e451a1cfd1",
            "ab2b102678f9491a986886fddc6b74de",
            "5e84f90b3f2342449f51dfb96acc8a7c",
            "73047805073c4f0a93033be3e28ed6ff",
            "182c89089d8f4598b4c8106510872d28",
            "26001a480cfe4c958372f959498bba22",
            "c4f76827a90b4144a66061e66a1410ad",
            "b90e4b60771b475ba3c29b41c71acd87",
            "3fc0357a85a441389c65fdc6d5954eaa",
            "e1f7a3af0954442c85bdd051b58a1df6",
            "94828b0e450644a5a20f5d1fbee743c0",
            "605800970c0442999710f3b088965b3a",
            "b14a5c602b104424af6fa75436b42d43",
            "123df4e017924210907e4fe156fd5f6b",
            "3c99f5f85c6f43ad8aecff6a298fee94",
            "dd98891a82a44448a45ff9d179f5d84f",
            "bec53870afb04188bef3441cb68f757e",
            "d7a50fe0ebbb464d8fc1d658ec2f11a6",
            "ee6a57d0be2748fe8a9cca8388468ef0",
            "394165b61cda4bd7ab29747b138a0942",
            "b9f63f6be4824f7b918356e2441d2a45",
            "cf1d432c41a0435494dc74a039f23428",
            "31baf2da547e4ad79eacab259bb720b8"
          ]
        },
        "id": "ff2KaKTqw2ii",
        "outputId": "9e6dbe11-f745-4c57-efaf-4b65889d0b14"
      },
      "outputs": [
        {
          "data": {
            "application/vnd.jupyter.widget-view+json": {
              "model_id": "a297a0fbeb484e10be273f9bea923ed8",
              "version_major": 2,
              "version_minor": 0
            },
            "text/plain": [
              "config.json:   0%|          | 0.00/535 [00:00<?, ?B/s]"
            ]
          },
          "metadata": {},
          "output_type": "display_data"
        },
        {
          "data": {
            "application/vnd.jupyter.widget-view+json": {
              "model_id": "aaf3890700ac4370a5ecf2d91031aa62",
              "version_major": 2,
              "version_minor": 0
            },
            "text/plain": [
              "model.safetensors:   0%|          | 0.00/369M [00:00<?, ?B/s]"
            ]
          },
          "metadata": {},
          "output_type": "display_data"
        },
        {
          "data": {
            "application/vnd.jupyter.widget-view+json": {
              "model_id": "a9e71131255541cb9f23fc374f7d1c0b",
              "version_major": 2,
              "version_minor": 0
            },
            "text/plain": [
              "  0%|          | 0/3 [00:00<?, ?it/s]"
            ]
          },
          "metadata": {},
          "output_type": "display_data"
        },
        {
          "data": {
            "application/vnd.jupyter.widget-view+json": {
              "model_id": "9d9cc10e901243128d6098112d03c62a",
              "version_major": 2,
              "version_minor": 0
            },
            "text/plain": [
              "  0%|          | 0/2524 [00:00<?, ?it/s]"
            ]
          },
          "metadata": {},
          "output_type": "display_data"
        },
        {
          "name": "stdout",
          "output_type": "stream",
          "text": [
            "Epoch 1, Loss: 0.0047\n"
          ]
        },
        {
          "data": {
            "application/vnd.jupyter.widget-view+json": {
              "model_id": "ab2b102678f9491a986886fddc6b74de",
              "version_major": 2,
              "version_minor": 0
            },
            "text/plain": [
              "  0%|          | 0/2524 [00:00<?, ?it/s]"
            ]
          },
          "metadata": {},
          "output_type": "display_data"
        },
        {
          "name": "stdout",
          "output_type": "stream",
          "text": [
            "Epoch 2, Loss: 0.0040\n"
          ]
        },
        {
          "data": {
            "application/vnd.jupyter.widget-view+json": {
              "model_id": "b14a5c602b104424af6fa75436b42d43",
              "version_major": 2,
              "version_minor": 0
            },
            "text/plain": [
              "  0%|          | 0/2524 [00:00<?, ?it/s]"
            ]
          },
          "metadata": {},
          "output_type": "display_data"
        },
        {
          "name": "stdout",
          "output_type": "stream",
          "text": [
            "Epoch 3, Loss: 0.0050\n"
          ]
        }
      ],
      "source": [
        "from sklearn.model_selection import train_test_split\n",
        "from tqdm.notebook import tqdm\n",
        "\n",
        "descriptions = data[\"description\"].tolist()\n",
        "scores = data[\"interest_score\"].tolist()\n",
        "\n",
        "X_train, X_val, y_train, y_val = train_test_split(descriptions, scores, test_size=0.2, random_state=42)\n",
        "\n",
        "train_dataset = KoBERTDataset(X_train, y_train, tokenizer)\n",
        "val_dataset = KoBERTDataset(X_val, y_val, tokenizer)\n",
        "\n",
        "train_loader = DataLoader(train_dataset, batch_size=16, shuffle=True)\n",
        "val_loader = DataLoader(val_dataset, batch_size=16)\n",
        "\n",
        "device = torch.device(\"cuda\" if torch.cuda.is_available() else \"cpu\")\n",
        "bert_model = AutoModel.from_pretrained(\"skt/kobert-base-v1\").to(device)\n",
        "model = KoBERTRegressor(bert_model).to(device)\n",
        "\n",
        "optimizer = torch.optim.AdamW(model.parameters(), lr=2e-5)\n",
        "criterion = nn.MSELoss()\n",
        "\n",
        "\n",
        "# \uac04\ub2e8\ud55c \ud559\uc2b5 \ub8e8\ud504 (3 epoch \uc608\uc2dc)\n",
        "for epoch in tqdm(range(3)):\n",
        "    model.train()\n",
        "    for input_ids, attention_mask, labels in tqdm(train_loader):\n",
        "\n",
        "        input_ids, attention_mask, labels = input_ids.to(device), attention_mask.to(device), labels.to(device)\n",
        "        outputs = model(input_ids, attention_mask)\n",
        "        loss = criterion(outputs, labels)\n",
        "\n",
        "        optimizer.zero_grad()\n",
        "        loss.backward()\n",
        "        optimizer.step()\n",
        "\n",
        "    print(f\"Epoch {epoch+1}, Loss: {loss.item():.4f}\")\n"
      ]
    },
    {
      "cell_type": "code",
      "execution_count": null,
      "metadata": {
        "id": "OKF8-yTIWaft"
      },
      "outputs": [],
      "source": []
    }
  ],
  "metadata": {
    "accelerator": "GPU",
    "colab": {
      "gpuType": "T4",
      "provenance": []
    },
    "kernelspec": {
      "display_name": "Python 3",
      "name": "python3"
    },
    "language_info": {
      "name": "python"
    }
  },
  "nbformat": 4,
  "nbformat_minor": 0
}