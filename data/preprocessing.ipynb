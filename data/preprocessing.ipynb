{
 "cells": [
  {
   "cell_type": "code",
   "execution_count": null,
   "id": "04f9c8c0",
   "metadata": {},
   "outputs": [],
   "source": [
    "import pandas as pd"
   ]
  },
  {
   "cell_type": "code",
   "execution_count": null,
   "id": "724b715b",
   "metadata": {},
   "outputs": [],
   "source": [
    "# CSV 파일 불러오기\n",
    "file_path = 'bunjang_보헴서_여성의류_최종.csv'\n",
    "df = pd.read_csv(file_path)"
   ]
  },
  {
   "cell_type": "code",
   "execution_count": null,
   "id": "a9b0706b",
   "metadata": {},
   "outputs": [],
   "source": [
    "# 1. 컬럼 이름 변경 \n",
    "rename_dict = {\n",
    "    'pid': 'id',\n",
    "    '상품 이름': 'name',\n",
    "    '가격': 'price',\n",
    "    '설명': 'description',\n",
    "    '상품상태': 'item_condition',\n",
    "    '판매상태': 'sale_status',\n",
    "    '찜 수': 'likes',\n",
    "    '조회수': 'views',\n",
    "    '배송비': 'shipping_fee',\n",
    "    '사진': 'image_url',\n",
    "    '카테고리': 'category',\n",
    "    '직거래지역': 'location',\n",
    "    '상품태그': 'tags',\n",
    "    '검수가능': 'inspectable',\n",
    "    '링크': 'link',\n",
    "    '업데이트일': 'update_time'\n",
    "}\n",
    "df.rename(columns=rename_dict, inplace=True)"
   ]
  },
  {
   "cell_type": "code",
   "execution_count": null,
   "id": "e0a36f55",
   "metadata": {},
   "outputs": [],
   "source": [
    "# 2. 숫자형 컬럼 변환 \n",
    "for col in ['price', 'likes', 'views', 'shipping_fee']:\n",
    "    df[col] = pd.to_numeric(df[col], errors='coerce')"
   ]
  },
  {
   "cell_type": "code",
   "execution_count": null,
   "id": "b4b8ced4",
   "metadata": {},
   "outputs": [],
   "source": [
    "# 3. 상품 이름 조건 제거 (포함된 문자열 제거) : \n",
    "# 구매 희망 게시글(예: \"삽니다\")은 판매 데이터가 아니므로 제거해야 분석 품질을 높일 수 있음.\n",
    "\n",
    "remove_keywords = ['구해요', '삽니다', '구합니다', '구매', '사요']\n",
    "pattern = '|'.join(remove_keywords)\n",
    "mask = df['name'].str.contains(pattern, case=False, na=False)\n",
    "df = df[~mask]"
   ]
  },
  {
   "cell_type": "code",
   "execution_count": null,
   "id": "65d87181",
   "metadata": {},
   "outputs": [],
   "source": [
    "# 4. location: 시군-구까지만 :\"서울 강남구 삼성동\" -> \"서울 강남구\" 형태로 축소\n",
    "df['location'] = df['location'].str.extract(r'([^ ]+ [^ ]+)')"
   ]
  },
  {
   "cell_type": "code",
   "execution_count": null,
   "id": "9027552f",
   "metadata": {},
   "outputs": [],
   "source": [
    "# 5. 가격 조건 : 너무 낮은 가격(비정상 거래) 및 1원 단위의 판매글은 상품 구매글이 많았음(예: 1004원, 9999원 등)\n",
    "\n",
    "df = df[df['price'] % 10 == 0]\n",
    "df = df[df['price'] >= 1000]"
   ]
  },
  {
   "cell_type": "code",
   "execution_count": null,
   "id": "de5e5782",
   "metadata": {},
   "outputs": [],
   "source": [
    "# 6. desc_len 열 추가 : 상품 설명의 길이는 판매 여부와 관련이 있을 수 있어 유용한 파생 변수로 활용하기 위해 컬럼 추가\n",
    "df['desc_len'] = df['description'].astype(str).apply(len)"
   ]
  },
  {
   "cell_type": "code",
   "execution_count": null,
   "id": "1a544199",
   "metadata": {},
   "outputs": [],
   "source": [
    "# 7. item_condition ordinal encoding : 번개장터 판매글 등록시 상품 상태를 선택하게 되어 있는데 이를 숫자형 데이터로 처리함.\n",
    "condition_map = {\n",
    "    'NEW': 0,\n",
    "    'LIKE_NEW': 1,\n",
    "    'LIGHTLY_USED': 2,\n",
    "    'HEAVILY_USED': 3,\n",
    "    'USED': 4,\n",
    "    'DAMAGED': 5\n",
    "}\n",
    "df['item_condition'] = df['item_condition'].map(condition_map)"
   ]
  },
  {
   "cell_type": "code",
   "execution_count": null,
   "id": "c309d824",
   "metadata": {},
   "outputs": [],
   "source": [
    "# 8. 판매상태 Binary 값 설정 : 판매중 = 0 / 예약중, 판매완료 = 1로 변환\n",
    "# 번개장터의 수수로 정책으로 인해(안전결제) 이미 판매가 완료 되었음에도 예약중으로 걸어두고 판매완료로 바꾸지 않는 상황 반영\n",
    "\n",
    "def map_sale_status(status):\n",
    "    if status == 'SELLING':\n",
    "        return 0\n",
    "    else:\n",
    "        return 1\n",
    "\n",
    "df['sale_status_binary'] = df['sale_status'].apply(map_sale_status)"
   ]
  },
  {
   "cell_type": "code",
   "execution_count": null,
   "id": "3f59fb73",
   "metadata": {},
   "outputs": [],
   "source": [
    "# 9. image_count 열 추가 \n",
    "df['image_count'] = df['image_url'].apply(lambda x: len(str(x).split(';')) if pd.notna(x) else 0)"
   ]
  },
  {
   "cell_type": "code",
   "execution_count": null,
   "id": "e28d9b78",
   "metadata": {},
   "outputs": [],
   "source": [
    "# 10. 카테고리 파생 컬럼 추가 : 기존의 긴 카테고리를 주요 분류로 나눠 유의미한 분석이 가능하도록 변경\n",
    "# middle_category, last_category 생성, 기존 category 컬럼 제거\n",
    "def split_category(cat):\n",
    "    parts = str(cat).split('>')\n",
    "    parts = [p.strip() for p in parts]\n",
    "    if len(parts) >= 3:\n",
    "        return parts[1], parts[-1]  # 두 번째와 마지막\n",
    "    elif len(parts) >= 2:\n",
    "        return parts[1], parts[-1]\n",
    "    else:\n",
    "        return '기타', '기타'\n",
    "\n",
    "df[['middle_category', 'last_category']] = df['category'].apply(lambda x: pd.Series(split_category(x)))\n",
    "df.drop(columns=['category'], inplace=True)"
   ]
  },
  {
   "cell_type": "code",
   "execution_count": null,
   "id": "4cfa32ed",
   "metadata": {},
   "outputs": [],
   "source": [
    "# 11. 상품태그에서 # 제거\n",
    "def clean_tags(tag_str):\n",
    "    if pd.isna(tag_str):\n",
    "        return tag_str\n",
    "    return tag_str.replace('#', '').strip()\n",
    "\n",
    "df['tags'] = df['tags'].apply(clean_tags)"
   ]
  },
  {
   "cell_type": "code",
   "execution_count": null,
   "id": "7f8d4096",
   "metadata": {},
   "outputs": [],
   "source": [
    "# 인덱스 재정렬\n",
    "df.reset_index(drop=True, inplace=True)"
   ]
  }
 ],
 "metadata": {
  "kernelspec": {
   "display_name": "Python 3 (ipykernel)",
   "language": "python",
   "name": "python3"
  },
  "language_info": {
   "codemirror_mode": {
    "name": "ipython",
    "version": 3
   },
   "file_extension": ".py",
   "mimetype": "text/x-python",
   "name": "python",
   "nbconvert_exporter": "python",
   "pygments_lexer": "ipython3",
   "version": "3.11.4"
  }
 },
 "nbformat": 4,
 "nbformat_minor": 5
}
